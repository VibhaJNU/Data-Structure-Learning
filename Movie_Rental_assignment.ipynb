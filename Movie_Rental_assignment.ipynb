{
 "cells": [
  {
   "cell_type": "markdown",
   "metadata": {
    "id": "stBTR8hm6TKE"
   },
   "source": [
    "### Python Data Structures Revision\n",
    "\n",
    "#### 1. Lists\n",
    "**Concept:** A list is like a collection of items that can be anything: numbers, words, etc. You can think of it as a shopping list where you can add, remove, or change items.\n",
    "\n",
    "**Example:** Imagine you have a shopping list with items."
   ]
  },
  {
   "cell_type": "code",
   "execution_count": null,
   "metadata": {
    "id": "3qRioZr-6Z0a"
   },
   "outputs": [],
   "source": [
    "# Shopping list\n",
    "shopping_list = [\"apples\", \"bananas\", \"milk\", \"bread\"]\n",
    "\n",
    "# Add an item\n",
    "shopping_list.append(\"eggs\")\n",
    "print(shopping_list)  # Output: ['apples', 'bananas', 'milk', 'bread', 'eggs']\n",
    "\n",
    "# Remove an item\n",
    "shopping_list.remove(\"milk\")\n",
    "print(shopping_list)  # Output: ['apples', 'bananas', 'bread', 'eggs']\n",
    "\n",
    "# Change an item\n",
    "shopping_list[1] = \"oranges\"\n",
    "print(shopping_list)  # Output: ['apples', 'oranges', 'bread', 'eggs']\n",
    "\n",
    "# Access an item\n",
    "print(shopping_list[0])  # Output: 'apples'"
   ]
  },
  {
   "cell_type": "markdown",
   "metadata": {
    "id": "OQ0K9BMi6cwI"
   },
   "source": [
    "#### 2. Dictionaries\n",
    "**Concept:** A dictionary is like a real-world dictionary where you have words (keys) and their meanings (values). It's used to store data in pairs.\n",
    "\n",
    "**Example:** Imagine you have a contact book with names and phone numbers.\n"
   ]
  },
  {
   "cell_type": "code",
   "execution_count": null,
   "metadata": {
    "id": "GMwOVUJF6gmU"
   },
   "outputs": [],
   "source": [
    "# Contact book\n",
    "contact_book = {\"John\": \"123-456-7890\", \"Jane\": \"987-654-3210\"}\n",
    "\n",
    "# Add a contact\n",
    "contact_book[\"Mike\"] = \"555-555-5555\"\n",
    "print(contact_book)  # Output: {'John': '123-456-7890', 'Jane': '987-654-3210', 'Mike': '555-555-5555'}\n",
    "\n",
    "# Remove a contact\n",
    "del contact_book[\"Jane\"]\n",
    "print(contact_book)  # Output: {'John': '123-456-7890', 'Mike': '555-555-5555'}\n",
    "\n",
    "# Change a contact's number\n",
    "contact_book[\"John\"] = \"111-222-3333\"\n",
    "print(contact_book)  # Output: {'John': '111-222-3333', 'Mike': '555-555-5555'}\n",
    "\n",
    "# Access a contact's number\n",
    "print(contact_book[\"John\"])  # Output: '111-222-3333'"
   ]
  },
  {
   "cell_type": "markdown",
   "metadata": {
    "id": "2YuFSiKs6jkJ"
   },
   "source": [
    "#### 3. Tuples\n",
    "**Concept:** A tuple is like a list, but you can't change it after it's created. It's like a record of a transaction where details once entered can't be altered.\n",
    "\n",
    "**Example:** Imagine you have records of sales transactions."
   ]
  },
  {
   "cell_type": "code",
   "execution_count": null,
   "metadata": {
    "id": "SYtl116Q6nbG"
   },
   "outputs": [],
   "source": [
    "# Sales transaction\n",
    "transaction = (\"John\", \"apples\", 5)\n",
    "\n",
    "# Access transaction details\n",
    "print(transaction[0])  # Output: 'John'\n",
    "print(transaction[1])  # Output: 'apples'\n",
    "print(transaction[2])  # Output: 5\n",
    "\n",
    "# You can't change a tuple\n",
    "# transaction[1] = \"oranges\"  # This will raise an error"
   ]
  },
  {
   "cell_type": "markdown",
   "metadata": {
    "id": "5QfPZ9Am6qk0"
   },
   "source": [
    "#### 4. Sets\n",
    "**Concept:** A set is like a collection of unique items. It's like a list of all different types of fruits you have where no fruit is listed more than once.\n",
    "\n",
    "**Example:** Imagine you have a list of fruits you own, and you want to ensure no duplicates.\n"
   ]
  },
  {
   "cell_type": "code",
   "execution_count": null,
   "metadata": {
    "id": "dAEK-ZQV6tlO"
   },
   "outputs": [],
   "source": [
    "# List of fruits\n",
    "fruits = {\"apples\", \"bananas\", \"oranges\", \"apples\"}\n",
    "\n",
    "# Add a fruit\n",
    "fruits.add(\"grapes\")\n",
    "print(fruits)  # Output: {'apples', 'bananas', 'oranges', 'grapes'}\n",
    "\n",
    "# Remove a fruit\n",
    "fruits.remove(\"bananas\")\n",
    "print(fruits)  # Output: {'apples', 'oranges', 'grapes'}\n",
    "\n",
    "# Check if a fruit is in the set\n",
    "print(\"apples\" in fruits)  # Output: True\n",
    "\n",
    "# Sets don't have duplicates\n",
    "fruits.add(\"apples\")\n",
    "print(fruits)  # Output: {'apples', 'oranges', 'grapes'}"
   ]
  },
  {
   "cell_type": "markdown",
   "metadata": {
    "id": "LWPgrTEH6whG"
   },
   "source": [
    "#### 5. Strings\n",
    "**Concept:** A string is a sequence of characters, like a sentence or a word. It's like writing a note.\n",
    "\n",
    "**Example:** Imagine you are writing a message."
   ]
  },
  {
   "cell_type": "code",
   "execution_count": null,
   "metadata": {
    "id": "LNJV1Yjc6ztF"
   },
   "outputs": [],
   "source": [
    "# Message\n",
    "message = \"Hello, World!\"\n",
    "\n",
    "# Access a character\n",
    "print(message[0])  # Output: 'H'\n",
    "\n",
    "# Slice a string\n",
    "print(message[0:5])  # Output: 'Hello'\n",
    "\n",
    "# Change a string (strings are immutable, so we create a new one)\n",
    "new_message = message.replace(\"World\", \"Python\")\n",
    "print(new_message)  # Output: 'Hello, Python!'\n",
    "\n",
    "# String length\n",
    "print(len(message))  # Output: 13\n",
    "\n",
    "# Convert to upper case\n",
    "print(message.upper())  # Output: 'HELLO, WORLD!'"
   ]
  },
  {
   "cell_type": "markdown",
   "metadata": {
    "id": "KhIP7IoMNHQs"
   },
   "source": [
    "### Summary\n",
    "- **Lists:** A mutable collection of items. Use when you need to change the items.\n",
    "- **Dictionaries:** A collection of key-value pairs. Use when you need to store related data pairs.\n",
    "- **Tuples:** An immutable collection of items. Use when you need to store unchangeable data.\n",
    "- **Sets:** A collection of unique items. Use when you need to store distinct items.\n",
    "- **Strings:** A sequence of characters. Use for text data."
   ]
  },
  {
   "cell_type": "markdown",
   "metadata": {
    "id": "KNuzGsAw2cjj"
   },
   "source": [
    "### Expanded Story: Managing a Movie Rental Store\n",
    "\n",
    "#### Part 1: Initializing the Store's Inventory and Customer Database (Using Lists and Dictionaries)\n",
    "The movie rental store starts with an initial inventory of movies and a customer database.\n"
   ]
  },
  {
   "cell_type": "markdown",
   "metadata": {
    "id": "zOqO847y2UfU"
   },
   "source": [
    "### Full Story Explanation\n",
    "1. **Initializing Inventory and Customer Database (Lists and Dictionaries):** Start with an initial collection of movies and a customer database.\n",
    "2. **Adding New Movies (Lists and Dictionaries):** Add new movies to the store's inventory.\n",
    "3. **Categorizing Movies (Dictionaries and Lists):** Categorize movies by genre for easier browsing.\n",
    "4. **Managing Rentals (Tuples, Sets, and Dictionaries):** Track rentals, update availability, and maintain customer records.\n",
    "5. **Handling Returns (Conditionals, Loops, and Dates):** Update records when movies are returned, check for overdue rentals, and calculate late fees.\n",
    "6. **Displaying Available Movies (Dictionaries, Sets, and Loops):** Show all available movies sorted by genre.\n",
    "7. **Searching for a Movie (Conditional Statements and Loops):** Allow customers to search for a movie by title and check its availability.\n",
    "8. **Adding and Removing Customers (Dictionaries):** Manage the customer database by adding new customers and removing inactive ones.\n",
    "9. **Generating Reports (Loops and Conditional Statements):** Generate various reports on rentals, overdue movies, and customer balances.\n",
    "10. **Handling Membership Upgrades and Downgrades (Conditionals and Loops):** Manage membership changes and their effects on rental privileges.\n",
    "11. **Handling Movie Reservations (Lists and Dictionaries):** Allow customers to reserve unavailable movies and notify them when they become available."
   ]
  },
  {
   "cell_type": "code",
   "execution_count": 1,
   "metadata": {
    "colab": {
     "base_uri": "https://localhost:8080/"
    },
    "id": "L7NcQ0qq2tY2",
    "outputId": "e59138ef-ad65-4f96-9b33-c428d46fd35c"
   },
   "outputs": [
    {
     "name": "stdout",
     "output_type": "stream",
     "text": [
      "Initial Inventory:\n",
      "Title: Inception, Genre: Sci-Fi, Available: True\n",
      "Title: The Matrix, Genre: Sci-Fi, Available: True\n",
      "Title: Interstellar, Genre: Sci-Fi, Available: True\n",
      "Title: The Godfather, Genre: Crime, Available: True\n",
      "Title: Pulp Fiction, Genre: Crime, Available: True\n",
      "Title: The Dark Knight, Genre: Action, Available: True\n",
      "Title: Fight Club, Genre: Drama, Available: True\n",
      "\n",
      "Customer Database:\n",
      "Alice : Membership: Premium, Rented Movie: [], Balance: 0.0\n",
      "Bob : Membership: Standard, Rented Movie: [], Balance: 0.0\n",
      "Charlie : Membership: Standard, Rented Movie: [], Balance: 0.0\n"
     ]
    }
   ],
   "source": [
    "# Initial inventory of movies\n",
    "inventory = [\n",
    "    {\"title\": \"Inception\", \"genre\": \"Sci-Fi\", \"available\": True},\n",
    "    {\"title\": \"The Matrix\", \"genre\": \"Sci-Fi\", \"available\": True},\n",
    "    {\"title\": \"Interstellar\", \"genre\": \"Sci-Fi\", \"available\": True},\n",
    "    {\"title\": \"The Godfather\", \"genre\": \"Crime\", \"available\": True},\n",
    "    {\"title\": \"Pulp Fiction\", \"genre\": \"Crime\", \"available\": True},\n",
    "    {\"title\": \"The Dark Knight\", \"genre\": \"Action\", \"available\": True},\n",
    "    {\"title\": \"Fight Club\", \"genre\": \"Drama\", \"available\": True}\n",
    "]\n",
    "\n",
    "# Customer database\n",
    "customers = {\n",
    "    \"Alice\": {\"membership\": \"Premium\", \"rented_movies\": [], \"balance\": 0.0},\n",
    "    \"Bob\": {\"membership\": \"Standard\", \"rented_movies\": [], \"balance\": 0.0},\n",
    "    \"Charlie\": {\"membership\": \"Standard\", \"rented_movies\": [], \"balance\": 0.0}\n",
    "}\n",
    "\n",
    "\n",
    "print(\"Initial Inventory:\")\n",
    "\n",
    "# loop over each movie, and print title, genre, availability\n",
    "for movie in inventory:\n",
    "    print(f\"Title: {movie['title']}, Genre: {movie['genre']}, Available: {movie['available']}\")\n",
    "\n",
    "\n",
    "print(\"\\nCustomer Database:\")\n",
    "\n",
    "# loop over customers, print customer, membership, their rented movies and balance\n",
    "for customer in customers:\n",
    "  print(f'{customer} : Membership: {customers[customer][\"membership\"]}, Rented Movie: {customers[customer][\"rented_movies\"]}, Balance: {customers[customer][\"balance\"]}')\n"
   ]
  },
  {
   "cell_type": "markdown",
   "metadata": {
    "id": "Hez1t5-h21v_"
   },
   "source": [
    "#### Part 2: Adding New Movies to the Inventory (Using Lists and Dictionaries)\n",
    "New movies arrive at the store, and they are added to the inventory."
   ]
  },
  {
   "cell_type": "code",
   "execution_count": 2,
   "metadata": {
    "colab": {
     "base_uri": "https://localhost:8080/"
    },
    "id": "LcrqWwsA27C5",
    "outputId": "b29c1fc6-7dab-4b5e-de04-8c578c886e7f"
   },
   "outputs": [
    {
     "name": "stdout",
     "output_type": "stream",
     "text": [
      "\n",
      "Updated Inventory:\n",
      "Title: Inception, Genre: Sci-Fi, Available: True\n",
      "Title: The Matrix, Genre: Sci-Fi, Available: True\n",
      "Title: Interstellar, Genre: Sci-Fi, Available: True\n",
      "Title: The Godfather, Genre: Crime, Available: True\n",
      "Title: Pulp Fiction, Genre: Crime, Available: True\n",
      "Title: The Dark Knight, Genre: Action, Available: True\n",
      "Title: Fight Club, Genre: Drama, Available: True\n",
      "Title: The Shawshank Redemption, Genre: Drama, Available: True\n",
      "Title: The Avengers, Genre: Action, Available: True\n",
      "Title: Titanic, Genre: Romance, Available: True\n"
     ]
    }
   ],
   "source": [
    "# New movies to be added\n",
    "new_movies = [\n",
    "    {\"title\": \"The Shawshank Redemption\", \"genre\": \"Drama\", \"available\": True},\n",
    "    {\"title\": \"The Avengers\", \"genre\": \"Action\", \"available\": True},\n",
    "    {\"title\": \"Titanic\", \"genre\": \"Romance\", \"available\": True}\n",
    "]\n",
    "\n",
    "# Add new movies to the inventory\n",
    "for movie in new_movies:\n",
    "    inventory.append(movie)\n",
    "\n",
    "print(\"\\nUpdated Inventory:\")\n",
    "\n",
    "# again loop over inventory and print all movie titles, genre and availability\n",
    "for movie in inventory:\n",
    "    print(f\"Title: {movie['title']}, Genre: {movie['genre']}, Available: {movie['available']}\")\n"
   ]
  },
  {
   "cell_type": "markdown",
   "metadata": {
    "id": "Dv9DC3aW3ANL"
   },
   "source": [
    "#### Part 3: Categorizing Movies by Genre (Using Dictionaries and Lists)\n",
    "Movies are categorized by their genres for easier browsing."
   ]
  },
  {
   "cell_type": "code",
   "execution_count": 3,
   "metadata": {
    "colab": {
     "base_uri": "https://localhost:8080/"
    },
    "id": "ZsbC6dbP3FJy",
    "outputId": "6a08c778-35c6-4d25-cdd4-f5dfc88f128b"
   },
   "outputs": [
    {
     "name": "stdout",
     "output_type": "stream",
     "text": [
      "\n",
      "Movies by Genre:\n",
      "Sci-Fi: Inception\n",
      "Sci-Fi: The Matrix\n",
      "Sci-Fi: Interstellar\n",
      "Crime: The Godfather\n",
      "Crime: Pulp Fiction\n",
      "Action: The Dark Knight\n",
      "Drama: Fight Club\n",
      "Drama: The Shawshank Redemption\n",
      "Action: The Avengers\n",
      "Romance: Titanic\n"
     ]
    }
   ],
   "source": [
    "# Categorize movies by genre\n",
    "movies_by_genre = {}\n",
    "\n",
    "# loop for each movie in inventory, check if genre is in movies_by_genre, if it's not there, add genre and movie\n",
    "for movie in inventory:\n",
    "    if movie[\"genre\"] not in movies_by_genre:\n",
    "        movies_by_genre[movie['title']] = movie[\"genre\"]\n",
    "\n",
    "\n",
    "\n",
    "\n",
    "# Print movies categorized by genre\n",
    "print(\"\\nMovies by Genre:\")\n",
    "for genre, titles in movies_by_genre.items():\n",
    "    print(f\"{titles}: {genre}\")"
   ]
  },
  {
   "cell_type": "markdown",
   "metadata": {
    "id": "1lTDuWo_3I2r"
   },
   "source": [
    "#### Part 4: Managing Rentals (Using Tuples, Sets, and Dictionaries)\n",
    "Customers rent movies, and the store tracks these rentals, including who rented them, when, and updates the inventory availability."
   ]
  },
  {
   "cell_type": "code",
   "execution_count": 4,
   "metadata": {
    "colab": {
     "base_uri": "https://localhost:8080/"
    },
    "id": "i1QnSRan3bBP",
    "outputId": "9afae1f0-69aa-4d96-f139-1af03816dc40"
   },
   "outputs": [
    {
     "name": "stdout",
     "output_type": "stream",
     "text": [
      "\n",
      "Current Rentals:\n",
      "('Alice', 'Inception', '2023-06-01', '2023-06-07')\n",
      "('Bob', 'The Godfather', '2023-06-02', '2023-06-08')\n",
      "('Charlie', 'The Dark Knight', '2023-06-03', '2023-06-09')\n",
      "\n",
      "Updated Inventory After Rentals:\n",
      "Title: Inception, Genre: Sci-Fi, Available: False\n",
      "Title: The Matrix, Genre: Sci-Fi, Available: True\n",
      "Title: Interstellar, Genre: Sci-Fi, Available: True\n",
      "Title: The Godfather, Genre: Crime, Available: False\n",
      "Title: Pulp Fiction, Genre: Crime, Available: True\n",
      "Title: The Dark Knight, Genre: Action, Available: False\n",
      "Title: Fight Club, Genre: Drama, Available: True\n",
      "Title: The Shawshank Redemption, Genre: Drama, Available: True\n",
      "Title: The Avengers, Genre: Action, Available: True\n",
      "Title: Titanic, Genre: Romance, Available: True\n",
      "\n",
      "Updated Customer Database After Rentals:\n",
      "Alice : Membership: Premium, Rented Movie: ['Inception'], Balance: 0.0\n",
      "Bob : Membership: Standard, Rented Movie: ['The Godfather'], Balance: 0.0\n",
      "Charlie : Membership: Standard, Rented Movie: ['The Dark Knight'], Balance: 0.0\n"
     ]
    }
   ],
   "source": [
    "# Track rentals\n",
    "rentals = set()\n",
    "\n",
    "# Customers rent movies\n",
    "rentals.add((\"Alice\", \"Inception\", \"2023-06-01\", \"2023-06-07\"))\n",
    "rentals.add((\"Bob\", \"The Godfather\", \"2023-06-02\", \"2023-06-08\"))\n",
    "rentals.add((\"Charlie\", \"The Dark Knight\", \"2023-06-03\", \"2023-06-09\"))\n",
    "\n",
    "# Update inventory availability and customer records\n",
    "for rental in rentals:\n",
    "    for movie in inventory:\n",
    "        # check if movie title is same as rental\n",
    "        if rental[1] == movie['title']:\n",
    "            if movie['available'] == True:\n",
    "                movie['available'] = False\n",
    "            # set movie availability to false if condition is true\n",
    "\n",
    "    # add rentals movie to customer rented movies\n",
    "\n",
    "\n",
    "for rental in list(rentals):\n",
    "    customers[rental[0]][\"rented_movies\"].append(rental[1])\n",
    "\n",
    "# Print current rentals, updated inventory, and customer records using for loop\n",
    "print(\"\\nCurrent Rentals:\")\n",
    "for i in rentals:\n",
    "  print(i)\n",
    "\n",
    "\n",
    "print(\"\\nUpdated Inventory After Rentals:\")\n",
    "for movie in inventory:\n",
    "    print(f\"Title: {movie['title']}, Genre: {movie['genre']}, Available: {movie['available']}\")\n",
    "\n",
    "\n",
    "print(\"\\nUpdated Customer Database After Rentals:\")\n",
    "for customer in customers:\n",
    "  print(f'{customer} : Membership: {customers[customer][\"membership\"]}, Rented Movie: {customers[customer][\"rented_movies\"]}, Balance: {customers[customer][\"balance\"]}')\n",
    "\n"
   ]
  },
  {
   "cell_type": "markdown",
   "metadata": {
    "id": "JTMyzRFb3iZJ"
   },
   "source": [
    "#### Part 5: Handling Returns and Updating Availability (Using Conditionals, Loops, and Dates)\n",
    "When a customer returns a movie, the inventory and rentals records are updated. We also check for overdue rentals and calculate any late fees."
   ]
  },
  {
   "cell_type": "code",
   "execution_count": 5,
   "metadata": {
    "colab": {
     "base_uri": "https://localhost:8080/",
     "height": 106
    },
    "id": "CNlLaud-3puC",
    "outputId": "e933de00-4091-493a-fc72-781944f0d4aa"
   },
   "outputs": [
    {
     "name": "stdout",
     "output_type": "stream",
     "text": [
      "Alice returned Inception late by 3 days. Late fee: $4.50\n",
      "\n",
      "Updated Rentals After Returns:\n",
      "Customer: Bob, Movie: The Godfather, Rented On: 2023-06-02, Due Date: 2023-06-08\n",
      "\n",
      "Updated Inventory After Returns:\n",
      "Title: Inception, Genre: Sci-Fi, Available: True\n",
      "Title: The Matrix, Genre: Sci-Fi, Available: True\n",
      "Title: Interstellar, Genre: Sci-Fi, Available: True\n",
      "Title: The Godfather, Genre: Crime, Available: False\n",
      "Title: Pulp Fiction, Genre: Crime, Available: True\n",
      "Title: The Dark Knight, Genre: Action, Available: True\n",
      "Title: Fight Club, Genre: Drama, Available: True\n",
      "Title: The Shawshank Redemption, Genre: Drama, Available: True\n",
      "Title: The Avengers, Genre: Action, Available: True\n",
      "Title: Titanic, Genre: Romance, Available: True\n",
      "\n",
      "Updated Customer Database After Returns:\n",
      "Customer: Alice, Membership: Premium, Rented Movies: [], Balance: $4.50\n",
      "Customer: Bob, Membership: Standard, Rented Movies: ['The Godfather'], Balance: $0.00\n",
      "Customer: Charlie, Membership: Standard, Rented Movies: [], Balance: $0.00\n"
     ]
    }
   ],
   "source": [
    "from datetime import datetime\n",
    "\n",
    "# Returns with the return date\n",
    "returns = [(\"Alice\", \"Inception\", \"2023-06-10\"), (\"Charlie\", \"The Dark Knight\", \"2023-06-08\")]\n",
    "\n",
    "# Process returns and check for overdue rentals, set as 1.5\n",
    "late_fee_per_day =   1.5       # Late fee charged per day in dollars\n",
    "\n",
    "for return_movie in returns:\n",
    "    for rental in list(rentals):\n",
    "        # check if borrower name and movie name in rental matches with name in return movie\n",
    "        if return_movie[0] == rental[0] and return_movie[1] == rental[1]:\n",
    "            due_date = datetime.strptime(rental[3], \"%Y-%m-%d\")\n",
    "            return_date = datetime.strptime(return_movie[2], \"%Y-%m-%d\")\n",
    "            # Calculate overdue days by subtracting due from return and apply .days\n",
    "            days_overdue = (return_date - due_date).days\n",
    "\n",
    "            # check if overdue days is greater than 0\n",
    "            if days_overdue > 0:\n",
    "                # apply late fee as overdue day * late fee\n",
    "                late_fee = days_overdue * late_fee_per_day\n",
    "                # add late fee in customer balance\n",
    "                customers[return_movie[0]]['balance'] = late_fee\n",
    "\n",
    "                # print customer returned movie details\n",
    "                print(f\"{return_movie[0]} returned {return_movie[1]} late by {days_overdue} days. Late fee: ${late_fee:.2f}\")\n",
    "\n",
    "            rentals.remove(rental)\n",
    "            break\n",
    "\n",
    "for movie in inventory:\n",
    "    for ret in returns:\n",
    "        # check if movie title is returned movie\n",
    "         if movie['title'] == ret[1]:\n",
    "            # set movie availability as true\n",
    "            movie[\"available\"] = True\n",
    "    \n",
    "    # remove movie from customer rented movies\n",
    "for customer in customers:\n",
    "    for ret in returns:\n",
    "        if customer == ret[0] and customers[customer][\"rented_movies\"][0]== ret[1]:\n",
    "            del customers[customer][\"rented_movies\"][0]\n",
    "\n",
    "# Print updated rentals, inventory, and customer records after returns\n",
    "print(\"\\nUpdated Rentals After Returns:\")\n",
    "for rental in rentals:\n",
    "    print(f\"Customer: {rental[0]}, Movie: {rental[1]}, Rented On: {rental[2]}, Due Date: {rental[3]}\")\n",
    "\n",
    "print(\"\\nUpdated Inventory After Returns:\")\n",
    "for movie in inventory:\n",
    "    print(f\"Title: {movie['title']}, Genre: {movie['genre']}, Available: {movie['available']}\")\n",
    "\n",
    "print(\"\\nUpdated Customer Database After Returns:\")\n",
    "for customer, details in customers.items():\n",
    "    print(f\"Customer: {customer}, Membership: {details['membership']}, Rented Movies: {details['rented_movies']}, Balance: ${details['balance']:.2f}\")"
   ]
  },
  {
   "cell_type": "markdown",
   "metadata": {
    "id": "gA3VrJ4N3uWf"
   },
   "source": [
    "#### Part 6: Displaying Available Movies by Genre (Using Dictionaries, Sets, and Loops)\n",
    "The store displays all available movies sorted by genre.\n"
   ]
  },
  {
   "cell_type": "code",
   "execution_count": 6,
   "metadata": {
    "id": "faTsyJir36ym"
   },
   "outputs": [
    {
     "name": "stdout",
     "output_type": "stream",
     "text": [
      "\n",
      "Available Movies by Genre:\n",
      "Sci-Fi: Inception\n",
      "Sci-Fi: The Matrix\n",
      "Sci-Fi: Interstellar\n",
      "Crime: Pulp Fiction\n",
      "Action: The Dark Knight\n",
      "Drama: Fight Club\n",
      "Drama: The Shawshank Redemption\n",
      "Action: The Avengers\n",
      "Romance: Titanic\n"
     ]
    }
   ],
   "source": [
    "# Available movies by genre, create an empty dict here\n",
    "available_movies_by_genre = {}\n",
    "\n",
    "\n",
    "for titles, genre in movies_by_genre.items():\n",
    "    available_movies = []\n",
    "    for movie in inventory:\n",
    "        # check if movie in inventory is same as title of movies by genre\n",
    "        if titles == movie['title'] and movie[\"available\"]== True:\n",
    "            available_movies.append(titles)\n",
    "            # add title in available movies once condition is true\n",
    "\n",
    "    # add movie in available movies by genre\n",
    "    if len (available_movies) > 0:\n",
    "        available_movies_by_genre[available_movies[0]] = genre\n",
    "\n",
    "\n",
    "# Print available movies by genre\n",
    "print(\"\\nAvailable Movies by Genre:\")\n",
    "for titles, genre in available_movies_by_genre.items():\n",
    "    print(f\"{genre}: {titles}\")"
   ]
  },
  {
   "cell_type": "markdown",
   "metadata": {
    "id": "w9oHKylB4CL3"
   },
   "source": [
    "### Continued Part 7: Searching for a Movie (Using Conditional Statements and Loops)\n",
    "Customers can search for a movie by title to check its availability."
   ]
  },
  {
   "cell_type": "code",
   "execution_count": 7,
   "metadata": {
    "id": "VFuGg9h74He8"
   },
   "outputs": [
    {
     "name": "stdout",
     "output_type": "stream",
     "text": [
      "\n",
      "Search Result: 'The Shawshank Redemption' is available.\n"
     ]
    }
   ],
   "source": [
    "# Search for a movie\n",
    "search_title = \"The Shawshank Redemption\"\n",
    "# set found as false for now\n",
    "found = False\n",
    "\n",
    "for movie in inventory:\n",
    "    # check if movie title is equal to search title, use .lower() to avoid case sensitive\n",
    "    if movie['title'].lower() == search_title.lower():\n",
    "        # set found as true after if is satisfied\n",
    "        found = True\n",
    "        print(f\"\\nSearch Result: '{search_title}' is {'available' if movie['available'] else 'not available'}.\")\n",
    "        break\n",
    "\n",
    "if not found:\n",
    "    print(f\"\\nSearch Result: '{search_title}' is not in the inventory.\")"
   ]
  },
  {
   "cell_type": "markdown",
   "metadata": {
    "id": "uGsuaN4G4Qhj"
   },
   "source": [
    "#### Part 8: Adding and Removing Customers (Using Dictionaries)\n",
    "The store manages its customer database by adding new customers and removing those who no longer use the service."
   ]
  },
  {
   "cell_type": "code",
   "execution_count": 8,
   "metadata": {
    "id": "4m0zojPo414O"
   },
   "outputs": [
    {
     "name": "stdout",
     "output_type": "stream",
     "text": [
      "\n",
      "Updated Customer Database After Adding and Removing Customers:\n",
      "Alice : Membership: Premium, Rented Movie: [], Balance: 4.5\n",
      "Bob : Membership: Standard, Rented Movie: ['The Godfather'], Balance: 0.0\n",
      "David : Membership: Premium, Rented Movie: [], Balance: 0.0\n",
      "Eve : Membership: Standard, Rented Movie: [], Balance: 0.0\n"
     ]
    }
   ],
   "source": [
    "# Adding new customers\n",
    "new_customers = {\n",
    "    \"David\": {\"membership\": \"Premium\", \"rented_movies\": [], \"balance\": 0.0},\n",
    "    \"Eve\": {\"membership\": \"Standard\", \"rented_movies\": [], \"balance\": 0.0}\n",
    "}\n",
    "\n",
    "# update new customers in customers\n",
    "for new in new_customers:\n",
    "    customers[new]=new_customers[new]\n",
    "\n",
    "\n",
    "# Removing a customer named \"Charlie\"\n",
    "del customers[\"Charlie\"]\n",
    "\n",
    "\n",
    "# Print updated customer database\n",
    "print(\"\\nUpdated Customer Database After Adding and Removing Customers:\")\n",
    "\n",
    "# Use loop to print customer and details\n",
    "\n",
    "for customer in customers:\n",
    "  print(f'{customer} : Membership: {customers[customer][\"membership\"]}, Rented Movie: {customers[customer][\"rented_movies\"]}, Balance: {customers[customer][\"balance\"]}')\n",
    "\n",
    "\n"
   ]
  },
  {
   "cell_type": "markdown",
   "metadata": {
    "id": "G1iWN96D4lYm"
   },
   "source": [
    "#### Part 9: Generating Reports (Using Loops and Conditional Statements)\n",
    "The store generates various reports, such as movies currently rented out, overdue rentals, and customer balances."
   ]
  },
  {
   "cell_type": "code",
   "execution_count": 9,
   "metadata": {
    "id": "PyM8BbQc5BUG"
   },
   "outputs": [
    {
     "name": "stdout",
     "output_type": "stream",
     "text": [
      "\n",
      "Report: Movies Currently Rented Out:\n",
      "Customer: Bob, Movie: The Godfather, Rented On: 2023-06-02, Due Date: 2023-06-08\n",
      "\n",
      "Report: Overdue Rentals:\n",
      "Customer: Bob, Movie: The Godfather, Due Date: 2023-06-08, Overdue by 391 days\n",
      "\n",
      "Report: Customer Balances:\n",
      "Alice : Balance: 4.50\n"
     ]
    }
   ],
   "source": [
    "from datetime import date\n",
    "\n",
    "# Report: Movies currently rented out\n",
    "print(\"\\nReport: Movies Currently Rented Out:\")\n",
    "# loop over each rentals and print\n",
    "for rental in rentals:\n",
    "    print(f\"Customer: {rental[0]}, Movie: {rental[1]}, Rented On: {rental[2]}, Due Date: {rental[3]}\")\n",
    "\n",
    "# Report: Overdue rentals\n",
    "print(\"\\nReport: Overdue Rentals:\")\n",
    "today = date.today()\n",
    "# loop over each rentals\n",
    "for rental in rentals:\n",
    "    due_date = datetime.strptime(rental[3], \"%Y-%m-%d\").date()\n",
    "    # check if due date is before today\n",
    "    if due_date < today:\n",
    "        print(f\"Customer: {rental[0]}, Movie: {rental[1]}, Due Date: {rental[3]}, Overdue by {(today - due_date).days} days\")\n",
    "\n",
    "# Report: Customer balances\n",
    "\n",
    "print(\"\\nReport: Customer Balances:\")\n",
    "# loop over customers, if their balance is > 0, print it for 2 decimal places\n",
    "\n",
    "for customer in customers:\n",
    "    if customers[customer][\"balance\"] > 0:\n",
    "          print(f'{customer} : Balance: {customers[customer][\"balance\"]:.2f}')\n",
    "\n",
    "\n",
    "\n",
    "\n",
    "\n"
   ]
  },
  {
   "cell_type": "markdown",
   "metadata": {
    "id": "ggLhFD-F5c60"
   },
   "source": [
    "#### Part 10: Handling Membership Upgrades and Downgrades (Using Conditionals and Loops)\n",
    "Customers may upgrade or downgrade their memberships, affecting their rental privileges.\n"
   ]
  },
  {
   "cell_type": "code",
   "execution_count": 10,
   "metadata": {
    "id": "dQHCr45e5iSB"
   },
   "outputs": [
    {
     "name": "stdout",
     "output_type": "stream",
     "text": [
      "\n",
      "Updated Customer Memberships and Privileges:\n",
      "Customer: Alice, Membership: Premium, Max Rentals: 5, Late Fee Discount: 50.0%\n",
      "Customer: Bob, Membership: Premium, Max Rentals: 5, Late Fee Discount: 50.0%\n",
      "Customer: David, Membership: Premium, Max Rentals: 5, Late Fee Discount: 50.0%\n",
      "Customer: Eve, Membership: Standard, Max Rentals: 2, Late Fee Discount: 0.0%\n"
     ]
    }
   ],
   "source": [
    "# Membership upgrade and downgrade rules\n",
    "membership_rules = {\n",
    "    \"Standard\": {\"max_rentals\": 2, \"late_fee_discount\": 0.0},\n",
    "    \"Premium\": {\"max_rentals\": 5, \"late_fee_discount\": 0.5}\n",
    "}\n",
    "\n",
    "# Upgrading and downgrading memberships\n",
    "customers[\"Bob\"][\"membership\"] = \"Premium\"\n",
    "customers[\"Eve\"][\"membership\"] = \"Standard\"\n",
    "\n",
    "# Print updated customer membership details\n",
    "print(\"\\nUpdated Customer Memberships and Privileges:\")\n",
    "for customer, details in customers.items():\n",
    "    membership = customers[customer][\"membership\"] # code here\n",
    "    max_rentals = membership_rules[membership][\"max_rentals\"] # code here\n",
    "    late_fee_discount = membership_rules[membership][\"late_fee_discount\"] # code here\n",
    "    print(f\"Customer: {customer}, Membership: {membership}, Max Rentals: {max_rentals}, Late Fee Discount: {late_fee_discount * 100}%\")"
   ]
  },
  {
   "cell_type": "markdown",
   "metadata": {
    "id": "mikH9tMd5me-"
   },
   "source": [
    "#### Part 11: Handling Movie Reservations (Using Lists and Dictionaries)\n",
    "Customers can reserve movies that are currently unavailable, and the store will notify them when the movies become available."
   ]
  },
  {
   "cell_type": "code",
   "execution_count": 11,
   "metadata": {
    "id": "ROx5Q8BzoE88"
   },
   "outputs": [
    {
     "name": "stdout",
     "output_type": "stream",
     "text": [
      "\n",
      "Checking Reservations and Notifying Customers:\n",
      "Notify David that Inception is now available.\n",
      "\n",
      "Remaining Reservations:\n",
      "Customer: Alice, Movie: The Godfather\n",
      "Customer: David, Movie: Inception\n"
     ]
    }
   ],
   "source": [
    "# Movie reservations\n",
    "reservations = []\n",
    "\n",
    "# Adding reservations\n",
    "reservations.append({\"customer\": \"Alice\", \"movie\": \"The Godfather\"})\n",
    "reservations.append({\"customer\": \"David\", \"movie\": \"Inception\"})\n",
    "\n",
    "# Check and notify customers when a movie becomes available\n",
    "print(\"\\nChecking Reservations and Notifying Customers:\")\n",
    "# loop over each movie in inventory\n",
    "for movie in inventory:\n",
    "    # check if movie availability is true\n",
    "    if movie[\"available\"]==True:\n",
    "        # now loop over each reservations\n",
    "        for res in reservations:\n",
    "            # check if available movie title matches with reservation movie\n",
    "            if res[\"movie\"]== movie[\"title\"]:\n",
    "                print(f\"Notify {res['customer']} that {res['movie']} is now available.\")\n",
    "                # now write code to remove that reservation from reservations below\n",
    "\n",
    "\n",
    "# Print remaining reservations\n",
    "print(\"\\nRemaining Reservations:\")\n",
    "for reservation in reservations:\n",
    "    print(f\"Customer: {reservation['customer']}, Movie: {reservation['movie']}\")"
   ]
  },
  {
   "cell_type": "code",
   "execution_count": null,
   "metadata": {
    "id": "gLd94qT1oFKZ"
   },
   "outputs": [],
   "source": []
  }
 ],
 "metadata": {
  "colab": {
   "provenance": []
  },
  "kernelspec": {
   "display_name": "Python 3 (ipykernel)",
   "language": "python",
   "name": "python3"
  },
  "language_info": {
   "codemirror_mode": {
    "name": "ipython",
    "version": 3
   },
   "file_extension": ".py",
   "mimetype": "text/x-python",
   "name": "python",
   "nbconvert_exporter": "python",
   "pygments_lexer": "ipython3",
   "version": "3.7.7"
  }
 },
 "nbformat": 4,
 "nbformat_minor": 1
}
