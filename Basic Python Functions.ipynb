{
 "cells": [
  {
   "cell_type": "markdown",
   "metadata": {},
   "source": [
    "# Basic Python Programs"
   ]
  },
  {
   "cell_type": "markdown",
   "metadata": {},
   "source": [
    "Concepts learnt:\n",
    "1. For loop\n",
    "2. While Loop\n",
    "3. Used Defined Function\n",
    "4. Anonymous Function"
   ]
  },
  {
   "cell_type": "code",
   "execution_count": 2,
   "metadata": {},
   "outputs": [
    {
     "name": "stdout",
     "output_type": "stream",
     "text": [
      " Enter a number: 7\n",
      "[7, 14, 21, 28, 35, 42, 49, 56, 63, 70]\n"
     ]
    }
   ],
   "source": [
    "#Write a function that inputs a number and prints the multiplication table of that number\n",
    "num= int(input(\" Enter a number: \"))\n",
    "\n",
    "a=[]\n",
    "i=1\n",
    "while(i<=10):\n",
    "    a.append(num*i)\n",
    "    i=i+1\n",
    "    \n",
    "print(a)    "
   ]
  },
  {
   "cell_type": "code",
   "execution_count": 3,
   "metadata": {},
   "outputs": [
    {
     "name": "stdout",
     "output_type": "stream",
     "text": [
      "[3, 5, 7, 11, 13, 17, 19, 23, 29, 31, 37, 41, 43, 47, 53, 59, 61, 67, 71, 73, 79, 83, 89, 97, 101, 103, 107, 109, 113, 127, 131, 137, 139, 149, 151, 157, 163, 167, 173, 179, 181, 191, 193, 197, 199, 211, 223, 227, 229, 233, 239, 241, 251, 257, 263, 269, 271, 277, 281, 283, 293, 307, 311, 313, 317, 331, 337, 347, 349, 353, 359, 367, 373, 379, 383, 389, 397, 401, 409, 419, 421, 431, 433, 439, 443, 449, 457, 461, 463, 467, 479, 487, 491, 499, 503, 509, 521, 523, 541, 547, 557, 563, 569, 571, 577, 587, 593, 599, 601, 607, 613, 617, 619, 631, 641, 643, 647, 653, 659, 661, 673, 677, 683, 691, 701, 709, 719, 727, 733, 739, 743, 751, 757, 761, 769, 773, 787, 797, 809, 811, 821, 823, 827, 829, 839, 853, 857, 859, 863, 877, 881, 883, 887, 907, 911, 919, 929, 937, 941, 947, 953, 967, 971, 977, 983, 991, 997]\n",
      "(3, 5)\n",
      "(5, 7)\n",
      "(11, 13)\n",
      "(17, 19)\n",
      "(29, 31)\n",
      "(41, 43)\n",
      "(59, 61)\n",
      "(71, 73)\n",
      "(101, 103)\n",
      "(107, 109)\n",
      "(137, 139)\n",
      "(149, 151)\n",
      "(179, 181)\n",
      "(191, 193)\n",
      "(197, 199)\n",
      "(227, 229)\n",
      "(239, 241)\n",
      "(269, 271)\n",
      "(281, 283)\n",
      "(311, 313)\n",
      "(347, 349)\n",
      "(419, 421)\n",
      "(431, 433)\n",
      "(461, 463)\n",
      "(521, 523)\n",
      "(569, 571)\n",
      "(599, 601)\n",
      "(617, 619)\n",
      "(641, 643)\n",
      "(659, 661)\n",
      "(809, 811)\n",
      "(821, 823)\n",
      "(827, 829)\n",
      "(857, 859)\n",
      "(881, 883)\n"
     ]
    }
   ],
   "source": [
    "#Write a program to print twin primes less than 1000. If two consecutive odd numbers are both prime then they are known as twin \n",
    "#primes\n",
    "\n",
    "isPrime= False\n",
    "primelist= []\n",
    "for i in range(1,1000):\n",
    "    for num2 in range(2,i):\n",
    "        if i%num2==0:\n",
    "            isPrime = False\n",
    "            break\n",
    "        else:\n",
    "            isPrime = True\n",
    "            \n",
    "    if isPrime==True:\n",
    "        primelist.append(i)\n",
    "\n",
    "print(primelist)\n",
    "primelist.insert(0,2)\n",
    "\n",
    "\n",
    "for index in range(0, len(primelist)-1):\n",
    "    if (primelist[index+1]-primelist[index] ==2):\n",
    "        print((primelist[index], primelist[index+1]))\n",
    "        "
   ]
  },
  {
   "cell_type": "code",
   "execution_count": 4,
   "metadata": {},
   "outputs": [
    {
     "name": "stdout",
     "output_type": "stream",
     "text": [
      "Enter a number: 56\n",
      "[2, 2, 2, 7]\n"
     ]
    }
   ],
   "source": [
    "#Write a program to find out the prime factors of a number. Example: prime factors of 56 -2, 2, 2, 7\n",
    "num = int(input(\"Enter a number: \"))\n",
    "pf= []\n",
    "for i in range(2, num):\n",
    "    while(num%i==0):\n",
    "        pf.append(i)\n",
    "        num= num/i\n",
    "print(pf)\n",
    "    \n"
   ]
  },
  {
   "cell_type": "code",
   "execution_count": 5,
   "metadata": {},
   "outputs": [],
   "source": [
    "'''Write a program to implement these formulae of permutations and combinations. Number of permutations of n objects taken \n",
    "r at a time: p(n, r) = n! / (n-r)!. Number of combinations of n objects taken r at a time is: c(n, r) = n! / (r!*(n-r)!) = p(n,r) / r!'''\n",
    "\n",
    "def factorial(n):\n",
    "    j = 1\n",
    "    for i in range(1, n+1):\n",
    "        j= j*i\n",
    "    return j\n",
    "\n",
    "def Permutation(n1, n2):\n",
    "    p= factorial(n1)/factorial(n1-n2)\n",
    "    return int(p)\n",
    "\n",
    "def Combination(n1, n2):\n",
    "    c= factorial(n1)/(factorial(n1-n2)*factorial(n2))\n",
    "    return int(c)"
   ]
  },
  {
   "cell_type": "code",
   "execution_count": 6,
   "metadata": {},
   "outputs": [
    {
     "name": "stdout",
     "output_type": "stream",
     "text": [
      "11001"
     ]
    }
   ],
   "source": [
    "#Write a function that converts a decimal number to binary number\n",
    "def binary(num):\n",
    "    if num > 1:\n",
    "        binary(num // 2)\n",
    "    print(num % 2, end='')\n",
    "        \n",
    "binary(25)\n",
    "\n",
    "#### help taken from GeeksforGeeks-- https://www.geeksforgeeks.org/python-program-to-covert-decimal-to-binary-number/"
   ]
  },
  {
   "cell_type": "code",
   "execution_count": 7,
   "metadata": {},
   "outputs": [],
   "source": [
    "#Write a function cubesum() that accepts an integer and returns the sum of the cubes of individual digits of that number. Use this\n",
    "#function to make functions PrintArmstrong() andisArmstrong() to print Armstrong numbers and to find whether is an Armstrong number.\n",
    "\n",
    "def cubesum(num):\n",
    "    sum = 0\n",
    "\n",
    "    for i in range(1,len(str(num))+1):\n",
    "        rem= num%10\n",
    "        sum = sum+ rem**3\n",
    "        num = num//10\n",
    "    return sum   \n",
    "\n",
    "def printArmstrong(n):\n",
    "    for i in range (1, n):\n",
    "        if i ==cubesum(i):\n",
    "            print(i)\n",
    "            \n",
    "def isArmstrong(n):\n",
    "    if n== cubesum(n):\n",
    "        print(\"The number {} is an Armstrong number\". format(n))\n",
    "    else:\n",
    "          print(\"The number {} is not an Armstrong number\". format(n))            \n"
   ]
  },
  {
   "cell_type": "code",
   "execution_count": 8,
   "metadata": {},
   "outputs": [
    {
     "name": "stdout",
     "output_type": "stream",
     "text": [
      "36\n",
      "1\n",
      "153\n",
      "The number 153 is an Armstrong number\n"
     ]
    }
   ],
   "source": [
    "print(cubesum(123))\n",
    "printArmstrong(200)\n",
    "isArmstrong(153)"
   ]
  },
  {
   "cell_type": "code",
   "execution_count": 9,
   "metadata": {},
   "outputs": [
    {
     "data": {
      "text/plain": [
       "6"
      ]
     },
     "execution_count": 9,
     "metadata": {},
     "output_type": "execute_result"
    }
   ],
   "source": [
    "#Write a function prodDigits() that inputs a number and returns the product of digits of that number.\n",
    "\n",
    "def prodDigits(num):\n",
    "    prod= 1\n",
    "    for i in range(1, len(str(num))+1):\n",
    "        rem = num%10\n",
    "        prod= prod*rem\n",
    "        num=num//10\n",
    "        \n",
    "    return prod    \n",
    "\n",
    "prodDigits(123)\n",
    "    "
   ]
  },
  {
   "cell_type": "code",
   "execution_count": 10,
   "metadata": {},
   "outputs": [
    {
     "name": "stdout",
     "output_type": "stream",
     "text": [
      "Multiplicative digital roof of 1234 is: 8\n"
     ]
    }
   ],
   "source": [
    "##Using the function prodDigits() of previous exercise write functions MDR() and MPersistence() that input a number and return \n",
    "#its multiplicative digital root and multiplicative persistence respectively\n",
    "\n",
    "def mdr(n):\n",
    "    n1=n\n",
    "    for i in range(1, len(str(n1))+1):\n",
    "        a= prodDigits(n1)\n",
    "        if len(str(a))== 1:\n",
    "            break\n",
    "        else:\n",
    "            n1 = a \n",
    "    print(\"Multiplicative digital roof of \"+ str(n)+ \" is: {}\".format(a))   \n",
    "    \n",
    "mdr(1234)"
   ]
  },
  {
   "cell_type": "code",
   "execution_count": 11,
   "metadata": {},
   "outputs": [
    {
     "name": "stdout",
     "output_type": "stream",
     "text": [
      "count : 2\n"
     ]
    }
   ],
   "source": [
    "def mPersistence(n):\n",
    "    count = 0\n",
    "    for i in range(1, len(str(n))+1):\n",
    "        a= prodDigits(n)\n",
    "        count = count+1\n",
    "        if len(str(a))== 1:\n",
    "            print(\"count :\",count)\n",
    "            break\n",
    "        else:\n",
    "            n = a  \n",
    "\n",
    "mPersistence(1234)"
   ]
  },
  {
   "cell_type": "code",
   "execution_count": 12,
   "metadata": {},
   "outputs": [
    {
     "name": "stdout",
     "output_type": "stream",
     "text": [
      "sum of proper divisors of 36 is : 55\n"
     ]
    }
   ],
   "source": [
    "#Write a function sumPdivisors() that finds the sum of proper divisors of a number. Proper divisors of a number are those numbers \n",
    "#by which the number is divisible, except the number itself. For example proper divisors of 36 are 1, 2, 3, 4, 6, 9, 18\n",
    "\n",
    "def sumPdivisors(num):\n",
    "    sum = 0\n",
    "    for i in range(1, num):\n",
    "        if num%i==0:\n",
    "            sum = sum+i\n",
    "        else:\n",
    "            pass\n",
    "    print(\"sum of proper divisors of \" + str(num) + \" is : {}\".format(sum))   \n",
    "            \n",
    "sumPdivisors(36)"
   ]
  },
  {
   "cell_type": "code",
   "execution_count": 13,
   "metadata": {},
   "outputs": [
    {
     "name": "stdout",
     "output_type": "stream",
     "text": [
      "num of perfect integer within 1 to 100 is [6, 28]\n"
     ]
    }
   ],
   "source": [
    "#A number is called perfect if the sum of proper divisors of that number is equal to the number. For example 28 is perfect number,\n",
    "#since 1+2+4+7+14=28. Write a program to print all the perfect numbers in a given range\n",
    "\n",
    "def perfect(num):\n",
    "    list1= []\n",
    "    for i in range(1, num):\n",
    "        sum=0\n",
    "        for j in range(1, i):\n",
    "           \n",
    "            if i%j==0:\n",
    "                sum = sum +j\n",
    "        if sum == i:\n",
    "            list1.append(i)\n",
    "               \n",
    "    print(\"num of perfect integer within 1 to \" + str(num) + \" is {}\".format(list1))\n",
    "    \n",
    "perfect(100)    "
   ]
  },
  {
   "cell_type": "code",
   "execution_count": 14,
   "metadata": {},
   "outputs": [
    {
     "name": "stdout",
     "output_type": "stream",
     "text": [
      "(6, 6)\n",
      "(28, 28)\n",
      "(220, 284)\n",
      "(284, 220)\n",
      "(496, 496)\n"
     ]
    }
   ],
   "source": [
    "'''Two different numbers are called amicable numbers if the sum of the proper divisors of each is equal to the other number. For \n",
    "example 220 and 284 are amicable numbers.\n",
    "\n",
    "Sum of proper divisors of 220 = 1+2+4+5+10+11+20+22+44+55+110 = 284\n",
    "Sum of proper divisors of 284 = 1+2+4+71+142 = 220\n",
    "Write a function to print pairs of amicable numbers in a range'''\n",
    "\n",
    "sumOfpd = []\n",
    "num = []\n",
    "for a in range(1, 1000):\n",
    "    sum = 0\n",
    "    for b in range(1, a):\n",
    "        if a%b ==0:\n",
    "            sum = sum + b\n",
    "    num.append(a)\n",
    "    sumOfpd.append(sum)       \n",
    "        \n",
    "#print(sumOfpd)\n",
    "#print(num)\n",
    "\n",
    "for i in num:\n",
    "    if i in sumOfpd :\n",
    "        if sumOfpd[num.index(i)] == num[sumOfpd.index(i)]:\n",
    "            print((i, sumOfpd[num.index(i)]))    \n",
    "    \n",
    "    \n",
    "    \n"
   ]
  },
  {
   "cell_type": "code",
   "execution_count": 15,
   "metadata": {},
   "outputs": [
    {
     "data": {
      "text/plain": [
       "[2, 4]"
      ]
     },
     "execution_count": 15,
     "metadata": {},
     "output_type": "execute_result"
    }
   ],
   "source": [
    "#Write a program which can filter odd numbers in a list by using filter function\n",
    "def oddfilter(list1):\n",
    "    def isodd(n):\n",
    "        if n%2==0:\n",
    "            return n\n",
    "        else:\n",
    "            pass\n",
    "\n",
    "    return list(filter(isodd, list1))\n",
    "\n",
    "oddfilter([1,2,3,4,5])"
   ]
  },
  {
   "cell_type": "code",
   "execution_count": 16,
   "metadata": {},
   "outputs": [
    {
     "name": "stdout",
     "output_type": "stream",
     "text": [
      "[1, 8, 27, 64]\n"
     ]
    }
   ],
   "source": [
    "#Write a program which can map() to make a list whose elements are cube of elements in a given list\n",
    "\n",
    "list2 = [1,2,3,4]\n",
    "print(list(map(lambda x : x**3, list2)))"
   ]
  },
  {
   "cell_type": "code",
   "execution_count": 17,
   "metadata": {},
   "outputs": [
    {
     "data": {
      "text/plain": [
       "[8, 64]"
      ]
     },
     "execution_count": 17,
     "metadata": {},
     "output_type": "execute_result"
    }
   ],
   "source": [
    "#Write a program which can map() and filter() to make a list whose elements are cube of even number in a given list\n",
    "\n",
    "def filtermap(list3):\n",
    "    \n",
    "    filter_list = list(filter(lambda x :x%2==0, list3))\n",
    "    map_list= list(map(lambda x : x**3, filter_list))\n",
    "    return map_list\n",
    "\n",
    "filtermap([1,2,3,4,5])"
   ]
  }
 ],
 "metadata": {
  "kernelspec": {
   "display_name": "Python 3 (ipykernel)",
   "language": "python",
   "name": "python3"
  },
  "language_info": {
   "codemirror_mode": {
    "name": "ipython",
    "version": 3
   },
   "file_extension": ".py",
   "mimetype": "text/x-python",
   "name": "python",
   "nbconvert_exporter": "python",
   "pygments_lexer": "ipython3",
   "version": "3.7.7"
  }
 },
 "nbformat": 4,
 "nbformat_minor": 2
}
